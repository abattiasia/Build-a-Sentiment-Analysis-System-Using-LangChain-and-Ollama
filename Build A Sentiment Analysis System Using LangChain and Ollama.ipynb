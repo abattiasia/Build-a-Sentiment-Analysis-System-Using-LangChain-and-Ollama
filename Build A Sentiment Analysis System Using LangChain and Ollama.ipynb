{
 "cells": [
  {
   "cell_type": "code",
   "execution_count": null,
   "id": "d36fed37-88f0-461b-99fd-21f4e4d5e21d",
   "metadata": {},
   "outputs": [],
   "source": [
    "#Task 4 : Build a Sentiment Analysis System Using LangChain and Ollama"
   ]
  },
  {
   "cell_type": "code",
   "execution_count": 12,
   "id": "9f4f50ce-50bb-4cfc-8b72-fa5b95361106",
   "metadata": {},
   "outputs": [
    {
     "name": "stdout",
     "output_type": "stream",
     "text": [
      "Sentiment: I would classify the given text as \"Positive\". The words and punctuation used convey a sense of satisfaction and appreciation for the product. The exclamation mark at the beginning of the sentence adds emphasis to the positive tone.\n"
     ]
    }
   ],
   "source": [
    "from langchain_ollama.llms import OllamaLLM\n",
    "from langchain.prompts import PromptTemplate\n",
    "from langchain.chains import LLMChain\n",
    "\n",
    "# 01 Initialize Ollama model\n",
    "ollama = OllamaLLM(model=\"llama3.2\") \n",
    "\n",
    "# 02 Define a LangChain prompt template for sentiment analysis\n",
    "template = \"\"\"\n",
    "Classify input text into: positive, negative, or neutral Text: '{text}'\"\n",
    "\"\"\"\n",
    "prompt = PromptTemplate(input_variables=[\"text\"], template=template)\n",
    "\n",
    "# 03 Creating an LLM chain with Ollama and the prompt template\n",
    "chain = LLMChain(llm=ollama, prompt=prompt)\n",
    "\n",
    "# 04 using model to handle text embedding and sentiment classification\n",
    "input_text = \"good product! It works very good\"  #\"bad product! It dosnt work \"\n",
    "result = chain.run(input_text)\n",
    "print(f\"Sentiment: {result}\")"
   ]
  },
  {
   "cell_type": "code",
   "execution_count": null,
   "id": "c663e2a2-d58e-44ee-85de-3284880280fb",
   "metadata": {},
   "outputs": [],
   "source": []
  }
 ],
 "metadata": {
  "kernelspec": {
   "display_name": "Python 3 (ipykernel)",
   "language": "python",
   "name": "python3"
  },
  "language_info": {
   "codemirror_mode": {
    "name": "ipython",
    "version": 3
   },
   "file_extension": ".py",
   "mimetype": "text/x-python",
   "name": "python",
   "nbconvert_exporter": "python",
   "pygments_lexer": "ipython3",
   "version": "3.12.2"
  }
 },
 "nbformat": 4,
 "nbformat_minor": 5
}
